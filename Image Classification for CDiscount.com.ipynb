{
  "nbformat": 4,
  "nbformat_minor": 0,
  "metadata": {
    "colab": {
      "name": "Final IDS594 Project.ipynb",
      "provenance": [],
      "collapsed_sections": [
        "5xKayDs5L8-7",
        "vhxJ5K-BMdx4",
        "jO4AsL-MMoF6",
        "nU9-TNMM-T0g",
        "qKVFg7osdXe0",
        "3nP8aregx3Ox",
        "x-Uw0Yk9G7xw",
        "LLCnb5VGyoKm",
        "iAXpkZXjrw8B",
        "mGJxebld1s_h"
      ],
      "toc_visible": true,
      "machine_shape": "hm"
    },
    "kernelspec": {
      "name": "python3",
      "display_name": "Python 3"
    },
    "accelerator": "GPU"
  },
  "cells": [
    {
      "cell_type": "markdown",
      "metadata": {
        "id": "5xKayDs5L8-7",
        "colab_type": "text"
      },
      "source": [
        "# **Importing Packages**"
      ]
    },
    {
      "cell_type": "code",
      "metadata": {
        "id": "3vtJeuI_d3MN",
        "colab_type": "code",
        "colab": {}
      },
      "source": [
        "import io\n",
        "import bson                       \n",
        "import matplotlib.pyplot as plt\n",
        "from skimage.data import imread  \n",
        "import multiprocessing as mp    \n",
        "import keras\n",
        "import tensorflow as tf"
      ],
      "execution_count": 0,
      "outputs": []
    },
    {
      "cell_type": "code",
      "metadata": {
        "id": "kxCRzUJDiBxy",
        "colab_type": "code",
        "colab": {}
      },
      "source": [
        "import pandas as pd\n",
        "import numpy as np\n",
        "import matplotlib.pyplot as plt"
      ],
      "execution_count": 0,
      "outputs": []
    },
    {
      "cell_type": "code",
      "metadata": {
        "id": "3Gm2QuFzehV-",
        "colab_type": "code",
        "outputId": "6e2d4d1b-5f56-4ada-d1b8-1b3262ffb7c5",
        "colab": {
          "base_uri": "https://localhost:8080/",
          "height": 34
        }
      },
      "source": [
        "from google.colab import drive\n",
        "drive.mount('/content/drive')"
      ],
      "execution_count": 3,
      "outputs": [
        {
          "output_type": "stream",
          "text": [
            "Mounted at /content/drive\n"
          ],
          "name": "stdout"
        }
      ]
    },
    {
      "cell_type": "markdown",
      "metadata": {
        "id": "vhxJ5K-BMdx4",
        "colab_type": "text"
      },
      "source": [
        "# **Reading and Processing Category File**"
      ]
    },
    {
      "cell_type": "code",
      "metadata": {
        "id": "n7TLoztYOXTg",
        "colab_type": "code",
        "colab": {}
      },
      "source": [
        "catcsv=pd.read_csv('/content/drive/Shared drives/IDS594/cdiscount-image-classification-challenge/category_names.csv')"
      ],
      "execution_count": 0,
      "outputs": []
    },
    {
      "cell_type": "code",
      "metadata": {
        "id": "ei197W76O7oe",
        "colab_type": "code",
        "colab": {}
      },
      "source": [
        "catcsv=catcsv.drop(['category_level2'], axis=1)"
      ],
      "execution_count": 0,
      "outputs": []
    },
    {
      "cell_type": "code",
      "metadata": {
        "id": "VGsk2FBwnDU-",
        "colab_type": "code",
        "colab": {}
      },
      "source": [
        "catcsv=catcsv.drop(['category_level3'], axis=1)"
      ],
      "execution_count": 0,
      "outputs": []
    },
    {
      "cell_type": "code",
      "metadata": {
        "id": "qIMecvRdO7eQ",
        "colab_type": "code",
        "colab": {}
      },
      "source": [
        "uniquecat=catcsv['category_level1'].unique()"
      ],
      "execution_count": 0,
      "outputs": []
    },
    {
      "cell_type": "code",
      "metadata": {
        "id": "DhXpJmw7kTZY",
        "colab_type": "code",
        "outputId": "c4db70e0-f383-44c2-f0dc-325ff969515b",
        "colab": {
          "base_uri": "https://localhost:8080/",
          "height": 197
        }
      },
      "source": [
        "catcsv.head()"
      ],
      "execution_count": 0,
      "outputs": [
        {
          "output_type": "execute_result",
          "data": {
            "text/html": [
              "<div>\n",
              "<style scoped>\n",
              "    .dataframe tbody tr th:only-of-type {\n",
              "        vertical-align: middle;\n",
              "    }\n",
              "\n",
              "    .dataframe tbody tr th {\n",
              "        vertical-align: top;\n",
              "    }\n",
              "\n",
              "    .dataframe thead th {\n",
              "        text-align: right;\n",
              "    }\n",
              "</style>\n",
              "<table border=\"1\" class=\"dataframe\">\n",
              "  <thead>\n",
              "    <tr style=\"text-align: right;\">\n",
              "      <th></th>\n",
              "      <th>category_id</th>\n",
              "      <th>category_level1</th>\n",
              "    </tr>\n",
              "  </thead>\n",
              "  <tbody>\n",
              "    <tr>\n",
              "      <th>0</th>\n",
              "      <td>1000021794</td>\n",
              "      <td>ABONNEMENT / SERVICES</td>\n",
              "    </tr>\n",
              "    <tr>\n",
              "      <th>1</th>\n",
              "      <td>1000012764</td>\n",
              "      <td>AMENAGEMENT URBAIN - VOIRIE</td>\n",
              "    </tr>\n",
              "    <tr>\n",
              "      <th>2</th>\n",
              "      <td>1000012776</td>\n",
              "      <td>AMENAGEMENT URBAIN - VOIRIE</td>\n",
              "    </tr>\n",
              "    <tr>\n",
              "      <th>3</th>\n",
              "      <td>1000012768</td>\n",
              "      <td>AMENAGEMENT URBAIN - VOIRIE</td>\n",
              "    </tr>\n",
              "    <tr>\n",
              "      <th>4</th>\n",
              "      <td>1000012755</td>\n",
              "      <td>AMENAGEMENT URBAIN - VOIRIE</td>\n",
              "    </tr>\n",
              "  </tbody>\n",
              "</table>\n",
              "</div>"
            ],
            "text/plain": [
              "   category_id              category_level1\n",
              "0   1000021794        ABONNEMENT / SERVICES\n",
              "1   1000012764  AMENAGEMENT URBAIN - VOIRIE\n",
              "2   1000012776  AMENAGEMENT URBAIN - VOIRIE\n",
              "3   1000012768  AMENAGEMENT URBAIN - VOIRIE\n",
              "4   1000012755  AMENAGEMENT URBAIN - VOIRIE"
            ]
          },
          "metadata": {
            "tags": []
          },
          "execution_count": 8
        }
      ]
    },
    {
      "cell_type": "markdown",
      "metadata": {
        "id": "jO4AsL-MMoF6",
        "colab_type": "text"
      },
      "source": [
        "# Reading Data from BSON File"
      ]
    },
    {
      "cell_type": "code",
      "metadata": {
        "id": "LvJJrDLcfebZ",
        "colab_type": "code",
        "colab": {}
      },
      "source": [
        "import bson\n",
        "\n",
        "data = bson.decode_file_iter(open('/content/drive/Shared drives/IDS594/cdiscount-image-classification-challenge/train.bson', 'rb'))"
      ],
      "execution_count": 0,
      "outputs": []
    },
    {
      "cell_type": "markdown",
      "metadata": {
        "id": "nU9-TNMM-T0g",
        "colab_type": "text"
      },
      "source": [
        "# Mapping category Names from Category file to Train Data"
      ]
    },
    {
      "cell_type": "markdown",
      "metadata": {
        "id": "_XptpI4YSO3u",
        "colab_type": "text"
      },
      "source": [
        "**Mapping Category names to the first batch of files**"
      ]
    },
    {
      "cell_type": "code",
      "metadata": {
        "id": "jbztf3oeDLon",
        "colab_type": "code",
        "colab": {}
      },
      "source": [
        "import itertools\n",
        "\n",
        "temp = itertools.islice(data,0,1000)"
      ],
      "execution_count": 0,
      "outputs": []
    },
    {
      "cell_type": "code",
      "metadata": {
        "id": "L4K2iPgSJNmV",
        "colab_type": "code",
        "colab": {}
      },
      "source": [
        "data1=pd.DataFrame(temp)"
      ],
      "execution_count": 0,
      "outputs": []
    },
    {
      "cell_type": "markdown",
      "metadata": {
        "id": "MAf3RvrfVpSw",
        "colab_type": "text"
      },
      "source": [
        "**Adding a column with empty values**"
      ]
    },
    {
      "cell_type": "code",
      "metadata": {
        "id": "IhoipxTT0qtD",
        "colab_type": "code",
        "colab": {}
      },
      "source": [
        "data1['Category_name']=np.nan"
      ],
      "execution_count": 0,
      "outputs": []
    },
    {
      "cell_type": "code",
      "metadata": {
        "id": "on-759ZjTkR8",
        "colab_type": "code",
        "outputId": "11cd44a2-26bb-4198-ce65-28c4db79010e",
        "colab": {
          "base_uri": "https://localhost:8080/",
          "height": 197
        }
      },
      "source": [
        "data1.head() #TO check if the Category_names are empty"
      ],
      "execution_count": 0,
      "outputs": [
        {
          "output_type": "execute_result",
          "data": {
            "text/html": [
              "<div>\n",
              "<style scoped>\n",
              "    .dataframe tbody tr th:only-of-type {\n",
              "        vertical-align: middle;\n",
              "    }\n",
              "\n",
              "    .dataframe tbody tr th {\n",
              "        vertical-align: top;\n",
              "    }\n",
              "\n",
              "    .dataframe thead th {\n",
              "        text-align: right;\n",
              "    }\n",
              "</style>\n",
              "<table border=\"1\" class=\"dataframe\">\n",
              "  <thead>\n",
              "    <tr style=\"text-align: right;\">\n",
              "      <th></th>\n",
              "      <th>_id</th>\n",
              "      <th>category_id</th>\n",
              "      <th>imgs</th>\n",
              "      <th>Category_name</th>\n",
              "    </tr>\n",
              "  </thead>\n",
              "  <tbody>\n",
              "    <tr>\n",
              "      <th>0</th>\n",
              "      <td>0</td>\n",
              "      <td>1000010653</td>\n",
              "      <td>[{'picture': b'\\xff\\xd8\\xff\\xe0\\x00\\x10JFIF\\x0...</td>\n",
              "      <td>NaN</td>\n",
              "    </tr>\n",
              "    <tr>\n",
              "      <th>1</th>\n",
              "      <td>1</td>\n",
              "      <td>1000010653</td>\n",
              "      <td>[{'picture': b'\\xff\\xd8\\xff\\xe0\\x00\\x10JFIF\\x0...</td>\n",
              "      <td>NaN</td>\n",
              "    </tr>\n",
              "    <tr>\n",
              "      <th>2</th>\n",
              "      <td>2</td>\n",
              "      <td>1000004079</td>\n",
              "      <td>[{'picture': b'\\xff\\xd8\\xff\\xe0\\x00\\x10JFIF\\x0...</td>\n",
              "      <td>NaN</td>\n",
              "    </tr>\n",
              "    <tr>\n",
              "      <th>3</th>\n",
              "      <td>3</td>\n",
              "      <td>1000004141</td>\n",
              "      <td>[{'picture': b'\\xff\\xd8\\xff\\xe0\\x00\\x10JFIF\\x0...</td>\n",
              "      <td>NaN</td>\n",
              "    </tr>\n",
              "    <tr>\n",
              "      <th>4</th>\n",
              "      <td>4</td>\n",
              "      <td>1000015539</td>\n",
              "      <td>[{'picture': b'\\xff\\xd8\\xff\\xe0\\x00\\x10JFIF\\x0...</td>\n",
              "      <td>NaN</td>\n",
              "    </tr>\n",
              "  </tbody>\n",
              "</table>\n",
              "</div>"
            ],
            "text/plain": [
              "   _id  ...  Category_name\n",
              "0    0  ...            NaN\n",
              "1    1  ...            NaN\n",
              "2    2  ...            NaN\n",
              "3    3  ...            NaN\n",
              "4    4  ...            NaN\n",
              "\n",
              "[5 rows x 4 columns]"
            ]
          },
          "metadata": {
            "tags": []
          },
          "execution_count": 14
        }
      ]
    },
    {
      "cell_type": "code",
      "metadata": {
        "id": "Y5gjc2k4TgPz",
        "colab_type": "code",
        "outputId": "fb02ff43-56fc-49b7-ea54-d7e1b4d01b6a",
        "colab": {
          "base_uri": "https://localhost:8080/",
          "height": 194
        }
      },
      "source": [
        "#Code to map category names to our first batch\n",
        "k=-1\n",
        "for i in data1['category_id']:\n",
        "  k=k+1\n",
        "  z=0\n",
        "  for j in catcsv['category_id']:\n",
        "    if i==j:\n",
        "      data1['Category_name'][k]=catcsv['category_level1'][z]\n",
        "      break\n",
        "    z=z+1"
      ],
      "execution_count": 0,
      "outputs": [
        {
          "output_type": "stream",
          "text": [
            "/usr/local/lib/python3.6/dist-packages/ipykernel_launcher.py:7: SettingWithCopyWarning: \n",
            "A value is trying to be set on a copy of a slice from a DataFrame\n",
            "\n",
            "See the caveats in the documentation: http://pandas.pydata.org/pandas-docs/stable/indexing.html#indexing-view-versus-copy\n",
            "  import sys\n",
            "/usr/local/lib/python3.6/dist-packages/pandas/core/indexing.py:190: SettingWithCopyWarning: \n",
            "A value is trying to be set on a copy of a slice from a DataFrame\n",
            "\n",
            "See the caveats in the documentation: http://pandas.pydata.org/pandas-docs/stable/indexing.html#indexing-view-versus-copy\n",
            "  self._setitem_with_indexer(indexer, value)\n"
          ],
          "name": "stderr"
        }
      ]
    },
    {
      "cell_type": "code",
      "metadata": {
        "id": "1TECiEXcUJx2",
        "colab_type": "code",
        "outputId": "0fce8a4a-b800-436f-b31d-63731b4b55c9",
        "colab": {
          "base_uri": "https://localhost:8080/",
          "height": 197
        }
      },
      "source": [
        "data1.head() #Now our data1 has the category names"
      ],
      "execution_count": 0,
      "outputs": [
        {
          "output_type": "execute_result",
          "data": {
            "text/html": [
              "<div>\n",
              "<style scoped>\n",
              "    .dataframe tbody tr th:only-of-type {\n",
              "        vertical-align: middle;\n",
              "    }\n",
              "\n",
              "    .dataframe tbody tr th {\n",
              "        vertical-align: top;\n",
              "    }\n",
              "\n",
              "    .dataframe thead th {\n",
              "        text-align: right;\n",
              "    }\n",
              "</style>\n",
              "<table border=\"1\" class=\"dataframe\">\n",
              "  <thead>\n",
              "    <tr style=\"text-align: right;\">\n",
              "      <th></th>\n",
              "      <th>_id</th>\n",
              "      <th>category_id</th>\n",
              "      <th>imgs</th>\n",
              "      <th>Category_name</th>\n",
              "    </tr>\n",
              "  </thead>\n",
              "  <tbody>\n",
              "    <tr>\n",
              "      <th>0</th>\n",
              "      <td>0</td>\n",
              "      <td>1000010653</td>\n",
              "      <td>[{'picture': b'\\xff\\xd8\\xff\\xe0\\x00\\x10JFIF\\x0...</td>\n",
              "      <td>TELEPHONIE - GPS</td>\n",
              "    </tr>\n",
              "    <tr>\n",
              "      <th>1</th>\n",
              "      <td>1</td>\n",
              "      <td>1000010653</td>\n",
              "      <td>[{'picture': b'\\xff\\xd8\\xff\\xe0\\x00\\x10JFIF\\x0...</td>\n",
              "      <td>TELEPHONIE - GPS</td>\n",
              "    </tr>\n",
              "    <tr>\n",
              "      <th>2</th>\n",
              "      <td>2</td>\n",
              "      <td>1000004079</td>\n",
              "      <td>[{'picture': b'\\xff\\xd8\\xff\\xe0\\x00\\x10JFIF\\x0...</td>\n",
              "      <td>INFORMATIQUE</td>\n",
              "    </tr>\n",
              "    <tr>\n",
              "      <th>3</th>\n",
              "      <td>3</td>\n",
              "      <td>1000004141</td>\n",
              "      <td>[{'picture': b'\\xff\\xd8\\xff\\xe0\\x00\\x10JFIF\\x0...</td>\n",
              "      <td>INFORMATIQUE</td>\n",
              "    </tr>\n",
              "    <tr>\n",
              "      <th>4</th>\n",
              "      <td>4</td>\n",
              "      <td>1000015539</td>\n",
              "      <td>[{'picture': b'\\xff\\xd8\\xff\\xe0\\x00\\x10JFIF\\x0...</td>\n",
              "      <td>BRICOLAGE - OUTILLAGE - QUINCAILLERIE</td>\n",
              "    </tr>\n",
              "  </tbody>\n",
              "</table>\n",
              "</div>"
            ],
            "text/plain": [
              "   _id  ...                          Category_name\n",
              "0    0  ...                       TELEPHONIE - GPS\n",
              "1    1  ...                       TELEPHONIE - GPS\n",
              "2    2  ...                           INFORMATIQUE\n",
              "3    3  ...                           INFORMATIQUE\n",
              "4    4  ...  BRICOLAGE - OUTILLAGE - QUINCAILLERIE\n",
              "\n",
              "[5 rows x 4 columns]"
            ]
          },
          "metadata": {
            "tags": []
          },
          "execution_count": 16
        }
      ]
    },
    {
      "cell_type": "markdown",
      "metadata": {
        "id": "5omf3sjhT6op",
        "colab_type": "text"
      },
      "source": [
        "**Defining function to map category names to the rest of the batch and appending to Data1**"
      ]
    },
    {
      "cell_type": "code",
      "metadata": {
        "id": "aBouwuO8xEVQ",
        "colab_type": "code",
        "colab": {}
      },
      "source": [
        "num=100\n",
        "seq=1000"
      ],
      "execution_count": 0,
      "outputs": []
    },
    {
      "cell_type": "code",
      "metadata": {
        "id": "PaP7lwu_w9xm",
        "colab_type": "code",
        "colab": {}
      },
      "source": [
        "for i in range(num):\n",
        "    temp1=itertools.islice(data,0,seq)\n",
        "    k=-1\n",
        "    print(i)\n",
        "    data2=pd.DataFrame(temp1)\n",
        "    data2['Category_name']=np.nan\n",
        "    for l in data2['category_id']:\n",
        "      k=k+1\n",
        "      z=0\n",
        "      for j in catcsv['category_id']:\n",
        "        if l==j:\n",
        "          data2['Category_name'][k]=catcsv['category_level1'][z]\n",
        "          break\n",
        "        z=z+1\n",
        "    data1=data1.append(data2, ignore_index= True)"
      ],
      "execution_count": 0,
      "outputs": []
    },
    {
      "cell_type": "code",
      "metadata": {
        "id": "DwHoc4wfxQ_l",
        "colab_type": "code",
        "outputId": "63700383-89c4-4f3e-cdb3-173ab84788b9",
        "colab": {
          "base_uri": "https://localhost:8080/",
          "height": 34
        }
      },
      "source": [
        "data1.shape"
      ],
      "execution_count": 0,
      "outputs": [
        {
          "output_type": "execute_result",
          "data": {
            "text/plain": [
              "(101000, 4)"
            ]
          },
          "metadata": {
            "tags": []
          },
          "execution_count": 30
        }
      ]
    },
    {
      "cell_type": "markdown",
      "metadata": {
        "id": "8dl_YUp1aTd5",
        "colab_type": "text"
      },
      "source": [
        "**Dropping the Unnecessary columns**"
      ]
    },
    {
      "cell_type": "code",
      "metadata": {
        "id": "w-DbOWf6aXiz",
        "colab_type": "code",
        "colab": {}
      },
      "source": [
        "data1=data.drop(['Unnamed: 0','_id','category_id'],axis=1)"
      ],
      "execution_count": 0,
      "outputs": []
    },
    {
      "cell_type": "markdown",
      "metadata": {
        "id": "TQ5ngQzCa5S6",
        "colab_type": "text"
      },
      "source": [
        "**Making Image Tensors by converting Image file into bytes**"
      ]
    },
    {
      "cell_type": "code",
      "metadata": {
        "id": "R2fU1sVRa434",
        "colab_type": "code",
        "colab": {}
      },
      "source": [
        "tensor_pic =[]\n",
        "\n",
        "for i in range(len(data1)):\n",
        "\n",
        "    picture = imread(io.BytesIO(data1['imgs'][i][0]['picture']))\n",
        "    tensor_pic.append(picture)"
      ],
      "execution_count": 0,
      "outputs": []
    },
    {
      "cell_type": "code",
      "metadata": {
        "id": "C1aU8vy8crdf",
        "colab_type": "code",
        "colab": {}
      },
      "source": [
        "data1['imgs_tensor']=tensor_pic"
      ],
      "execution_count": 0,
      "outputs": []
    },
    {
      "cell_type": "markdown",
      "metadata": {
        "id": "qKVFg7osdXe0",
        "colab_type": "text"
      },
      "source": [
        "# **Storing and reading the Data from Pickle**"
      ]
    },
    {
      "cell_type": "code",
      "metadata": {
        "id": "D_HnBW3XZOyA",
        "colab_type": "code",
        "colab": {}
      },
      "source": [
        "data2_1 = data2[0:25000]\n",
        "data2_1.to_pickle('/content/drive/Shared drives/IDS594/pooja1.pkl')"
      ],
      "execution_count": 0,
      "outputs": []
    },
    {
      "cell_type": "code",
      "metadata": {
        "id": "7-9oFiOVZOvP",
        "colab_type": "code",
        "colab": {}
      },
      "source": [
        "data2_2 = data2[25000:50000]\n",
        "data2_2.to_pickle('/content/drive/Shared drives/IDS594/pooja2.pkl')"
      ],
      "execution_count": 0,
      "outputs": []
    },
    {
      "cell_type": "code",
      "metadata": {
        "id": "FNEkrWCZZOsb",
        "colab_type": "code",
        "colab": {}
      },
      "source": [
        "data2_3 = data2[50000:75000]\n",
        "data2_3.to_pickle('/content/drive/Shared drives/IDS594/pooja3.pkl')"
      ],
      "execution_count": 0,
      "outputs": []
    },
    {
      "cell_type": "code",
      "metadata": {
        "id": "uUxxCwcQZt3I",
        "colab_type": "code",
        "colab": {}
      },
      "source": [
        "data2_4 = data2[75000:100000]\n",
        "data2_4.to_pickle('/content/drive/Shared drives/IDS594/pooja4.pkl')"
      ],
      "execution_count": 0,
      "outputs": []
    },
    {
      "cell_type": "code",
      "metadata": {
        "id": "3cyVyF2F76po",
        "colab_type": "code",
        "colab": {}
      },
      "source": [
        "import pickle"
      ],
      "execution_count": 0,
      "outputs": []
    },
    {
      "cell_type": "code",
      "metadata": {
        "id": "afXnMbfz7pki",
        "colab_type": "code",
        "colab": {}
      },
      "source": [
        "p1 = pd.read_pickle('/content/drive/Shared drives/IDS594/pooja1.pkl')"
      ],
      "execution_count": 0,
      "outputs": []
    },
    {
      "cell_type": "code",
      "metadata": {
        "id": "6I7wJ7xD7pgA",
        "colab_type": "code",
        "colab": {}
      },
      "source": [
        "p2 = pd.read_pickle('/content/drive/Shared drives/IDS594/pooja2.pkl')"
      ],
      "execution_count": 0,
      "outputs": []
    },
    {
      "cell_type": "code",
      "metadata": {
        "id": "iNTWSBVY7pCX",
        "colab_type": "code",
        "colab": {}
      },
      "source": [
        "p3 = pd.read_pickle('/content/drive/Shared drives/IDS594/pooja3.pkl')"
      ],
      "execution_count": 0,
      "outputs": []
    },
    {
      "cell_type": "code",
      "metadata": {
        "id": "VBcsRtv88Eyt",
        "colab_type": "code",
        "colab": {}
      },
      "source": [
        "p4 = pd.read_pickle('/content/drive/Shared drives/IDS594/pooja4.pkl')"
      ],
      "execution_count": 0,
      "outputs": []
    },
    {
      "cell_type": "code",
      "metadata": {
        "id": "xFZh-20a8Jr1",
        "colab_type": "code",
        "colab": {}
      },
      "source": [
        "pfinal = pd.concat([p1,p2,p3,p4])"
      ],
      "execution_count": 0,
      "outputs": []
    },
    {
      "cell_type": "code",
      "metadata": {
        "id": "TEraXtHA87iq",
        "colab_type": "code",
        "outputId": "faf3323e-8422-45da-c125-16413a72c651",
        "colab": {
          "base_uri": "https://localhost:8080/",
          "height": 197
        }
      },
      "source": [
        "pfinal.head()"
      ],
      "execution_count": 12,
      "outputs": [
        {
          "output_type": "execute_result",
          "data": {
            "text/html": [
              "<div>\n",
              "<style scoped>\n",
              "    .dataframe tbody tr th:only-of-type {\n",
              "        vertical-align: middle;\n",
              "    }\n",
              "\n",
              "    .dataframe tbody tr th {\n",
              "        vertical-align: top;\n",
              "    }\n",
              "\n",
              "    .dataframe thead th {\n",
              "        text-align: right;\n",
              "    }\n",
              "</style>\n",
              "<table border=\"1\" class=\"dataframe\">\n",
              "  <thead>\n",
              "    <tr style=\"text-align: right;\">\n",
              "      <th></th>\n",
              "      <th>Category_name</th>\n",
              "      <th>imgs_tensor</th>\n",
              "    </tr>\n",
              "  </thead>\n",
              "  <tbody>\n",
              "    <tr>\n",
              "      <th>0</th>\n",
              "      <td>TELEPHONIE - GPS</td>\n",
              "      <td>[[[255, 255, 255], [255, 255, 255], [255, 255,...</td>\n",
              "    </tr>\n",
              "    <tr>\n",
              "      <th>1</th>\n",
              "      <td>TELEPHONIE - GPS</td>\n",
              "      <td>[[[255, 255, 255], [255, 255, 255], [255, 255,...</td>\n",
              "    </tr>\n",
              "    <tr>\n",
              "      <th>2</th>\n",
              "      <td>INFORMATIQUE</td>\n",
              "      <td>[[[254, 254, 254], [254, 254, 254], [254, 254,...</td>\n",
              "    </tr>\n",
              "    <tr>\n",
              "      <th>3</th>\n",
              "      <td>INFORMATIQUE</td>\n",
              "      <td>[[[255, 255, 255], [255, 255, 255], [255, 255,...</td>\n",
              "    </tr>\n",
              "    <tr>\n",
              "      <th>4</th>\n",
              "      <td>BRICOLAGE - OUTILLAGE - QUINCAILLERIE</td>\n",
              "      <td>[[[255, 255, 255], [255, 255, 255], [255, 255,...</td>\n",
              "    </tr>\n",
              "  </tbody>\n",
              "</table>\n",
              "</div>"
            ],
            "text/plain": [
              "                           Category_name                                        imgs_tensor\n",
              "0                       TELEPHONIE - GPS  [[[255, 255, 255], [255, 255, 255], [255, 255,...\n",
              "1                       TELEPHONIE - GPS  [[[255, 255, 255], [255, 255, 255], [255, 255,...\n",
              "2                           INFORMATIQUE  [[[254, 254, 254], [254, 254, 254], [254, 254,...\n",
              "3                           INFORMATIQUE  [[[255, 255, 255], [255, 255, 255], [255, 255,...\n",
              "4  BRICOLAGE - OUTILLAGE - QUINCAILLERIE  [[[255, 255, 255], [255, 255, 255], [255, 255,..."
            ]
          },
          "metadata": {
            "tags": []
          },
          "execution_count": 12
        }
      ]
    },
    {
      "cell_type": "markdown",
      "metadata": {
        "id": "3nP8aregx3Ox",
        "colab_type": "text"
      },
      "source": [
        "# Taking only those categories which have more than 2000 records"
      ]
    },
    {
      "cell_type": "code",
      "metadata": {
        "id": "Qvyyz05EwFMb",
        "colab_type": "code",
        "colab": {}
      },
      "source": [
        "subset_data=pfinal.groupby(\"Category_name\").filter(lambda x: len(x)>2000)"
      ],
      "execution_count": 0,
      "outputs": []
    },
    {
      "cell_type": "code",
      "metadata": {
        "id": "Q9rH2WJXxkco",
        "colab_type": "code",
        "outputId": "a9c82800-4775-444d-857a-2cce08f56434",
        "colab": {
          "base_uri": "https://localhost:8080/",
          "height": 212
        }
      },
      "source": [
        "subset_data['Category_name'].value_counts() #Counting number of categories"
      ],
      "execution_count": 14,
      "outputs": [
        {
          "output_type": "execute_result",
          "data": {
            "text/plain": [
              "TELEPHONIE - GPS                         30245\n",
              "INFORMATIQUE                             16918\n",
              "DECO - LINGE - LUMINAIRE                  7157\n",
              "LIBRAIRIE                                 6123\n",
              "AUTO - MOTO                               6120\n",
              "BIJOUX -  LUNETTES - MONTRES              4382\n",
              "BRICOLAGE - OUTILLAGE - QUINCAILLERIE     3083\n",
              "MUSIQUE                                   2921\n",
              "JEUX - JOUETS                             2399\n",
              "ELECTROMENAGER                            2341\n",
              "Name: Category_name, dtype: int64"
            ]
          },
          "metadata": {
            "tags": []
          },
          "execution_count": 14
        }
      ]
    },
    {
      "cell_type": "markdown",
      "metadata": {
        "id": "kijzyCOVgoJQ",
        "colab_type": "text"
      },
      "source": [
        "**Now there are 10 Category classes with more than 2000 records**"
      ]
    },
    {
      "cell_type": "markdown",
      "metadata": {
        "id": "x-Uw0Yk9G7xw",
        "colab_type": "text"
      },
      "source": [
        "# Converting Integer Labels to One Hot Encoded vectors"
      ]
    },
    {
      "cell_type": "markdown",
      "metadata": {
        "id": "jI1-5_WUhJRi",
        "colab_type": "text"
      },
      "source": [
        "**Assigning Integer Labels to each category**"
      ]
    },
    {
      "cell_type": "code",
      "metadata": {
        "id": "_1wwClvAZ5Dg",
        "colab_type": "code",
        "colab": {}
      },
      "source": [
        "CatInt=list(set(subset_data['Category_name']))"
      ],
      "execution_count": 0,
      "outputs": []
    },
    {
      "cell_type": "code",
      "metadata": {
        "id": "jWPsOO3aQ3HV",
        "colab_type": "code",
        "colab": {
          "base_uri": "https://localhost:8080/",
          "height": 123
        },
        "outputId": "f829510c-a811-4fe1-a66a-194b91b67ea5"
      },
      "source": [
        "subset_data['Categ Integer'] = subset_data.apply(lambda x: 0 if x['Category_name']==CatInt[0] else 1 if x['Category_name']==CatInt[1] else 2 if x['Category_name']==CatInt[2] else 3 if x['Category_name']==CatInt[3] else 4 if x['Category_name']==CatInt[4] else 5 if x['Category_name']==CatInt[5] else 6 if x['Category_name']==CatInt[6] else 7 if x['Category_name']==CatInt[7] else 8 if x['Category_name']==CatInt[8] else 9 , axis=1)"
      ],
      "execution_count": 16,
      "outputs": [
        {
          "output_type": "stream",
          "text": [
            "/usr/local/lib/python3.6/dist-packages/ipykernel_launcher.py:1: SettingWithCopyWarning: \n",
            "A value is trying to be set on a copy of a slice from a DataFrame.\n",
            "Try using .loc[row_indexer,col_indexer] = value instead\n",
            "\n",
            "See the caveats in the documentation: http://pandas.pydata.org/pandas-docs/stable/indexing.html#indexing-view-versus-copy\n",
            "  \"\"\"Entry point for launching an IPython kernel.\n"
          ],
          "name": "stderr"
        }
      ]
    },
    {
      "cell_type": "code",
      "metadata": {
        "id": "XY47KcCoboUv",
        "colab_type": "code",
        "outputId": "7bf576da-c500-444e-ebee-cb08b1977e1b",
        "colab": {
          "base_uri": "https://localhost:8080/",
          "height": 197
        }
      },
      "source": [
        "subset_data.head()"
      ],
      "execution_count": 17,
      "outputs": [
        {
          "output_type": "execute_result",
          "data": {
            "text/html": [
              "<div>\n",
              "<style scoped>\n",
              "    .dataframe tbody tr th:only-of-type {\n",
              "        vertical-align: middle;\n",
              "    }\n",
              "\n",
              "    .dataframe tbody tr th {\n",
              "        vertical-align: top;\n",
              "    }\n",
              "\n",
              "    .dataframe thead th {\n",
              "        text-align: right;\n",
              "    }\n",
              "</style>\n",
              "<table border=\"1\" class=\"dataframe\">\n",
              "  <thead>\n",
              "    <tr style=\"text-align: right;\">\n",
              "      <th></th>\n",
              "      <th>Category_name</th>\n",
              "      <th>imgs_tensor</th>\n",
              "      <th>Categ Integer</th>\n",
              "    </tr>\n",
              "  </thead>\n",
              "  <tbody>\n",
              "    <tr>\n",
              "      <th>0</th>\n",
              "      <td>TELEPHONIE - GPS</td>\n",
              "      <td>[[[255, 255, 255], [255, 255, 255], [255, 255,...</td>\n",
              "      <td>4</td>\n",
              "    </tr>\n",
              "    <tr>\n",
              "      <th>1</th>\n",
              "      <td>TELEPHONIE - GPS</td>\n",
              "      <td>[[[255, 255, 255], [255, 255, 255], [255, 255,...</td>\n",
              "      <td>4</td>\n",
              "    </tr>\n",
              "    <tr>\n",
              "      <th>2</th>\n",
              "      <td>INFORMATIQUE</td>\n",
              "      <td>[[[254, 254, 254], [254, 254, 254], [254, 254,...</td>\n",
              "      <td>3</td>\n",
              "    </tr>\n",
              "    <tr>\n",
              "      <th>3</th>\n",
              "      <td>INFORMATIQUE</td>\n",
              "      <td>[[[255, 255, 255], [255, 255, 255], [255, 255,...</td>\n",
              "      <td>3</td>\n",
              "    </tr>\n",
              "    <tr>\n",
              "      <th>4</th>\n",
              "      <td>BRICOLAGE - OUTILLAGE - QUINCAILLERIE</td>\n",
              "      <td>[[[255, 255, 255], [255, 255, 255], [255, 255,...</td>\n",
              "      <td>6</td>\n",
              "    </tr>\n",
              "  </tbody>\n",
              "</table>\n",
              "</div>"
            ],
            "text/plain": [
              "                           Category_name  ... Categ Integer\n",
              "0                       TELEPHONIE - GPS  ...             4\n",
              "1                       TELEPHONIE - GPS  ...             4\n",
              "2                           INFORMATIQUE  ...             3\n",
              "3                           INFORMATIQUE  ...             3\n",
              "4  BRICOLAGE - OUTILLAGE - QUINCAILLERIE  ...             6\n",
              "\n",
              "[5 rows x 3 columns]"
            ]
          },
          "metadata": {
            "tags": []
          },
          "execution_count": 17
        }
      ]
    },
    {
      "cell_type": "markdown",
      "metadata": {
        "id": "W-9vUidKiOeg",
        "colab_type": "text"
      },
      "source": [
        "**Changing Integer Labels into list of One Hot Encoder Vector**"
      ]
    },
    {
      "cell_type": "code",
      "metadata": {
        "id": "oy39aDcUjT5b",
        "colab_type": "code",
        "colab": {}
      },
      "source": [
        "labelint=list(subset_data['Categ Integer'])"
      ],
      "execution_count": 0,
      "outputs": []
    },
    {
      "cell_type": "code",
      "metadata": {
        "id": "vbQ2pVibhJk_",
        "colab_type": "code",
        "colab": {}
      },
      "source": [
        "testingLabels=keras.utils.to_categorical(labelint, num_classes=10)"
      ],
      "execution_count": 0,
      "outputs": []
    },
    {
      "cell_type": "code",
      "metadata": {
        "id": "OkAFIdsap6DO",
        "colab_type": "code",
        "outputId": "37bee577-9ad2-4ac6-eaf2-86eb5f8799ff",
        "colab": {
          "base_uri": "https://localhost:8080/",
          "height": 141
        }
      },
      "source": [
        "testingLabels #One hot encoded matrix of labels"
      ],
      "execution_count": 20,
      "outputs": [
        {
          "output_type": "execute_result",
          "data": {
            "text/plain": [
              "array([[0., 0., 0., ..., 0., 0., 0.],\n",
              "       [0., 0., 0., ..., 0., 0., 0.],\n",
              "       [0., 0., 0., ..., 0., 0., 0.],\n",
              "       ...,\n",
              "       [0., 0., 0., ..., 0., 0., 0.],\n",
              "       [0., 0., 0., ..., 0., 0., 0.],\n",
              "       [0., 0., 0., ..., 0., 0., 0.]], dtype=float32)"
            ]
          },
          "metadata": {
            "tags": []
          },
          "execution_count": 20
        }
      ]
    },
    {
      "cell_type": "markdown",
      "metadata": {
        "id": "LLCnb5VGyoKm",
        "colab_type": "text"
      },
      "source": [
        "# Dividing the Data into Train(80%) and Test(20%)"
      ]
    },
    {
      "cell_type": "markdown",
      "metadata": {
        "id": "aGW4_EaSZZ7b",
        "colab_type": "text"
      },
      "source": [
        "**Making separate Dataframes for Data and label**"
      ]
    },
    {
      "cell_type": "code",
      "metadata": {
        "id": "fbgCk6mzy2xT",
        "colab_type": "code",
        "colab": {}
      },
      "source": [
        "X=subset_data['imgs_tensor'] #Image tensors would be XData"
      ],
      "execution_count": 0,
      "outputs": []
    },
    {
      "cell_type": "code",
      "metadata": {
        "id": "1VZqq-KFqycv",
        "colab_type": "code",
        "colab": {}
      },
      "source": [
        "y=testingLabels #list of One Hot encoded array would be YData"
      ],
      "execution_count": 0,
      "outputs": []
    },
    {
      "cell_type": "markdown",
      "metadata": {
        "id": "h9sos0VVZoPY",
        "colab_type": "text"
      },
      "source": [
        "**Spliting Train and Test Data**"
      ]
    },
    {
      "cell_type": "code",
      "metadata": {
        "id": "ezCtSNgKLZkW",
        "colab_type": "code",
        "colab": {}
      },
      "source": [
        "from sklearn.model_selection import train_test_split"
      ],
      "execution_count": 0,
      "outputs": []
    },
    {
      "cell_type": "code",
      "metadata": {
        "id": "mfL-7mkRJ9ms",
        "colab_type": "code",
        "colab": {}
      },
      "source": [
        "X_train, X_testdata, y_train, y_testdata = train_test_split(X, y, test_size=0.2,stratify=y,random_state=1) # Using Stratify to split 80% proportion to each classes"
      ],
      "execution_count": 0,
      "outputs": []
    },
    {
      "cell_type": "markdown",
      "metadata": {
        "id": "fGGEokmxaF3J",
        "colab_type": "text"
      },
      "source": [
        "**Spliting Train and Validation Data**"
      ]
    },
    {
      "cell_type": "code",
      "metadata": {
        "id": "DW1JVFjxaL8H",
        "colab_type": "code",
        "colab": {}
      },
      "source": [
        "X_traindata, X_valdata, y_traindata, y_valdata = train_test_split(X_train, y_train, train_size=0.8, random_state=1)"
      ],
      "execution_count": 0,
      "outputs": []
    },
    {
      "cell_type": "markdown",
      "metadata": {
        "id": "KTx3zztak1g6",
        "colab_type": "text"
      },
      "source": [
        "**Reindexing the Train, Test & Validation Data**"
      ]
    },
    {
      "cell_type": "code",
      "metadata": {
        "id": "KUoPJhs9DQ-N",
        "colab_type": "code",
        "colab": {}
      },
      "source": [
        "X_traindata = X_traindata.reset_index(drop=True)\n",
        "X_valdata = X_valdata.reset_index(drop=True)\n",
        "X_testdata = X_testdata.reset_index(drop=True)"
      ],
      "execution_count": 0,
      "outputs": []
    },
    {
      "cell_type": "markdown",
      "metadata": {
        "id": "r8KRlUxjlCh1",
        "colab_type": "text"
      },
      "source": [
        " **Resizing 180 * 180 Images to 32 * 32 size for train, test & validation Data**"
      ]
    },
    {
      "cell_type": "code",
      "metadata": {
        "id": "QS688GaaA86I",
        "colab_type": "code",
        "colab": {}
      },
      "source": [
        "import cv2\n",
        "\n",
        "r = 32.0 / 180.0\n",
        "dim = (32, int(180 * r))\n",
        " \n",
        "# perform the actual resizing of the image and show it\n",
        "X_traindatare = X_traindata.apply(lambda x:cv2.resize(x, dim, interpolation = cv2.INTER_AREA))"
      ],
      "execution_count": 0,
      "outputs": []
    },
    {
      "cell_type": "code",
      "metadata": {
        "id": "Kzcom92WHtFg",
        "colab_type": "code",
        "colab": {}
      },
      "source": [
        "r = 32.0 / 180.0\n",
        "dim = (32, int(180 * r))\n",
        " \n",
        "# perform the actual resizing of the image and show it\n",
        "X_testdatare = X_testdata.apply(lambda x:cv2.resize(x, dim, interpolation = cv2.INTER_AREA))"
      ],
      "execution_count": 0,
      "outputs": []
    },
    {
      "cell_type": "code",
      "metadata": {
        "id": "gKBf3zRDHsyz",
        "colab_type": "code",
        "colab": {}
      },
      "source": [
        "r = 32.0 / 180.0\n",
        "dim = (32, int(180 * r))\n",
        " \n",
        "# perform the actual resizing of the image and show it\n",
        "X_valdatare = X_valdata.apply(lambda x:cv2.resize(x, dim, interpolation = cv2.INTER_AREA))"
      ],
      "execution_count": 0,
      "outputs": []
    },
    {
      "cell_type": "code",
      "metadata": {
        "id": "kO909avSHW-c",
        "colab_type": "code",
        "outputId": "a47381c3-e71f-42f1-e205-5adb66ae6867",
        "colab": {
          "base_uri": "https://localhost:8080/",
          "height": 34
        }
      },
      "source": [
        "X_valdatare[1].shape"
      ],
      "execution_count": 30,
      "outputs": [
        {
          "output_type": "execute_result",
          "data": {
            "text/plain": [
              "(32, 32, 3)"
            ]
          },
          "metadata": {
            "tags": []
          },
          "execution_count": 30
        }
      ]
    },
    {
      "cell_type": "markdown",
      "metadata": {
        "id": "KsZu52U-ln6v",
        "colab_type": "text"
      },
      "source": [
        "**Scaling Images Bytes ranging between 0 & 1**"
      ]
    },
    {
      "cell_type": "code",
      "metadata": {
        "id": "zbEOvoasOsCI",
        "colab_type": "code",
        "colab": {}
      },
      "source": [
        "ftrain = X_traindatare\n",
        "fval = X_valdatare\n",
        "ftest = X_testdatare\n",
        "ftrain /= 255\n",
        "ftest /= 255\n",
        "fval /= 255"
      ],
      "execution_count": 0,
      "outputs": []
    },
    {
      "cell_type": "markdown",
      "metadata": {
        "id": "2iQLUfbkl8Zp",
        "colab_type": "text"
      },
      "source": [
        "**Converting Train, Test & Validation Data to Numpy Array for Model Input**"
      ]
    },
    {
      "cell_type": "code",
      "metadata": {
        "id": "jHkf7xg9NX41",
        "colab_type": "code",
        "outputId": "ed37682e-5c76-4657-9f63-685157ebf27b",
        "colab": {
          "base_uri": "https://localhost:8080/",
          "height": 34
        }
      },
      "source": [
        "X_train_data = []\n",
        "for myFile in ftrain:\n",
        "    X_train_data.append(myFile)\n",
        "\n",
        "print('X_data shape:', np.array(X_train_data).shape)"
      ],
      "execution_count": 32,
      "outputs": [
        {
          "output_type": "stream",
          "text": [
            "X_data shape: (52280, 32, 32, 3)\n"
          ],
          "name": "stdout"
        }
      ]
    },
    {
      "cell_type": "code",
      "metadata": {
        "id": "So3-wgM0ZWrs",
        "colab_type": "code",
        "colab": {}
      },
      "source": [
        "X_train_data2 = np.array(X_train_data)"
      ],
      "execution_count": 0,
      "outputs": []
    },
    {
      "cell_type": "code",
      "metadata": {
        "id": "Hg7D0VUhO66H",
        "colab_type": "code",
        "outputId": "9f5de66c-0800-42e6-fd4e-674550056fe5",
        "colab": {
          "base_uri": "https://localhost:8080/",
          "height": 34
        }
      },
      "source": [
        "X_val_data = []\n",
        "for myFile in fval:\n",
        "    X_val_data.append(myFile)\n",
        "\n",
        "print('X_data shape:', np.array(X_val_data).shape)"
      ],
      "execution_count": 34,
      "outputs": [
        {
          "output_type": "stream",
          "text": [
            "X_data shape: (13071, 32, 32, 3)\n"
          ],
          "name": "stdout"
        }
      ]
    },
    {
      "cell_type": "code",
      "metadata": {
        "id": "f8RiVRqKZNRS",
        "colab_type": "code",
        "colab": {}
      },
      "source": [
        "X_val_data2 = np.array(X_val_data)"
      ],
      "execution_count": 0,
      "outputs": []
    },
    {
      "cell_type": "code",
      "metadata": {
        "id": "c12_GgZyO6rS",
        "colab_type": "code",
        "outputId": "764d3601-9617-4d9c-8431-4ea5567ea133",
        "colab": {
          "base_uri": "https://localhost:8080/",
          "height": 34
        }
      },
      "source": [
        "X_test_data = []\n",
        "for myFile in ftest:\n",
        "    X_test_data.append(myFile)\n",
        "\n",
        "print('X_data shape:', np.array(X_test_data).shape)"
      ],
      "execution_count": 36,
      "outputs": [
        {
          "output_type": "stream",
          "text": [
            "X_data shape: (16338, 32, 32, 3)\n"
          ],
          "name": "stdout"
        }
      ]
    },
    {
      "cell_type": "code",
      "metadata": {
        "id": "y_0GEtkVY_3b",
        "colab_type": "code",
        "colab": {}
      },
      "source": [
        "X_test_data2 = np.array(X_test_data)"
      ],
      "execution_count": 0,
      "outputs": []
    },
    {
      "cell_type": "markdown",
      "metadata": {
        "id": "iAXpkZXjrw8B",
        "colab_type": "text"
      },
      "source": [
        "# Modelling"
      ]
    },
    {
      "cell_type": "code",
      "metadata": {
        "id": "qnQXl0EBF5xm",
        "colab_type": "code",
        "outputId": "7d8bc1a0-4047-4058-dda1-bdc3f38a00c2",
        "colab": {
          "base_uri": "https://localhost:8080/",
          "height": 267
        }
      },
      "source": [
        "from keras import layers\n",
        "from keras import models\n",
        "from keras import regularizers\n",
        "model = models.Sequential()\n",
        "model.add(layers.Conv2D(128, (3, 3), padding='same',\n",
        "                 input_shape=(32,32,3)))\n",
        "model.add(layers.Activation('relu'))\n",
        "model.add(layers.Conv2D(64, (3, 3)))\n",
        "model.add(layers.Activation('relu'))\n",
        "model.add(layers.MaxPooling2D(pool_size=(2, 2)))\n",
        "model.add(layers.Dropout(0.25))\n",
        "\n",
        "model.add(layers.Conv2D(64, (3, 3), padding='same'))\n",
        "model.add(layers.Activation('relu'))\n",
        "model.add(layers.Conv2D(32, (3, 3)))\n",
        "model.add(layers.Activation('relu'))\n",
        "model.add(layers.MaxPooling2D(pool_size=(2, 2)))\n",
        "model.add(layers.Dropout(0.25))\n",
        "\n",
        "model.add(layers.Flatten())\n",
        "model.add(layers.Dense(512,kernel_regularizer=regularizers.l2(0.001)))\n",
        "model.add(layers.Activation('relu'))\n",
        "model.add(layers.Dropout(0.5))\n",
        "model.add(layers.Dense(10))\n",
        "model.add(layers.Activation('softmax'))\n"
      ],
      "execution_count": 38,
      "outputs": [
        {
          "output_type": "stream",
          "text": [
            "WARNING:tensorflow:From /usr/local/lib/python3.6/dist-packages/keras/backend/tensorflow_backend.py:66: The name tf.get_default_graph is deprecated. Please use tf.compat.v1.get_default_graph instead.\n",
            "\n",
            "WARNING:tensorflow:From /usr/local/lib/python3.6/dist-packages/keras/backend/tensorflow_backend.py:541: The name tf.placeholder is deprecated. Please use tf.compat.v1.placeholder instead.\n",
            "\n",
            "WARNING:tensorflow:From /usr/local/lib/python3.6/dist-packages/keras/backend/tensorflow_backend.py:4432: The name tf.random_uniform is deprecated. Please use tf.random.uniform instead.\n",
            "\n",
            "WARNING:tensorflow:From /usr/local/lib/python3.6/dist-packages/keras/backend/tensorflow_backend.py:4267: The name tf.nn.max_pool is deprecated. Please use tf.nn.max_pool2d instead.\n",
            "\n",
            "WARNING:tensorflow:From /usr/local/lib/python3.6/dist-packages/keras/backend/tensorflow_backend.py:148: The name tf.placeholder_with_default is deprecated. Please use tf.compat.v1.placeholder_with_default instead.\n",
            "\n",
            "WARNING:tensorflow:From /usr/local/lib/python3.6/dist-packages/keras/backend/tensorflow_backend.py:3733: calling dropout (from tensorflow.python.ops.nn_ops) with keep_prob is deprecated and will be removed in a future version.\n",
            "Instructions for updating:\n",
            "Please use `rate` instead of `keep_prob`. Rate should be set to `rate = 1 - keep_prob`.\n"
          ],
          "name": "stdout"
        }
      ]
    },
    {
      "cell_type": "markdown",
      "metadata": {
        "id": "AV5NUy9dvu0d",
        "colab_type": "text"
      },
      "source": [
        "**Model Compilation**"
      ]
    },
    {
      "cell_type": "code",
      "metadata": {
        "id": "rwsKa8Fy64lB",
        "colab_type": "code",
        "outputId": "2a997f2d-f1f8-4a08-9768-e358be2f82a1",
        "colab": {
          "base_uri": "https://localhost:8080/",
          "height": 107
        }
      },
      "source": [
        "\n",
        "from keras import optimizers\n",
        "\n",
        "model.compile(loss='categorical_crossentropy',\n",
        "              optimizer=optimizers.RMSprop(lr=0.0001, decay=1e-6),\n",
        "              metrics=['acc'])"
      ],
      "execution_count": 39,
      "outputs": [
        {
          "output_type": "stream",
          "text": [
            "WARNING:tensorflow:From /usr/local/lib/python3.6/dist-packages/keras/optimizers.py:793: The name tf.train.Optimizer is deprecated. Please use tf.compat.v1.train.Optimizer instead.\n",
            "\n",
            "WARNING:tensorflow:From /usr/local/lib/python3.6/dist-packages/keras/backend/tensorflow_backend.py:3576: The name tf.log is deprecated. Please use tf.math.log instead.\n",
            "\n"
          ],
          "name": "stdout"
        }
      ]
    },
    {
      "cell_type": "markdown",
      "metadata": {
        "id": "V6X7hVmavx-k",
        "colab_type": "text"
      },
      "source": [
        "**Fitting the Model**"
      ]
    },
    {
      "cell_type": "code",
      "metadata": {
        "id": "ApA1ZJpRGMtV",
        "colab_type": "code",
        "outputId": "fd691edf-7453-4bf6-ca93-2c70b5e07423",
        "colab": {
          "base_uri": "https://localhost:8080/",
          "height": 1000
        }
      },
      "source": [
        "fittedmodel = model.fit(X_train_data2, y_traindata,\n",
        "              batch_size=100,\n",
        "              epochs=50,\n",
        "              validation_data=(X_val_data2, y_valdata),shuffle=True)"
      ],
      "execution_count": 40,
      "outputs": [
        {
          "output_type": "stream",
          "text": [
            "WARNING:tensorflow:From /usr/local/lib/python3.6/dist-packages/tensorflow_core/python/ops/math_grad.py:1424: where (from tensorflow.python.ops.array_ops) is deprecated and will be removed in a future version.\n",
            "Instructions for updating:\n",
            "Use tf.where in 2.0, which has the same broadcast rule as np.where\n",
            "WARNING:tensorflow:From /usr/local/lib/python3.6/dist-packages/keras/backend/tensorflow_backend.py:1033: The name tf.assign_add is deprecated. Please use tf.compat.v1.assign_add instead.\n",
            "\n",
            "WARNING:tensorflow:From /usr/local/lib/python3.6/dist-packages/keras/backend/tensorflow_backend.py:1020: The name tf.assign is deprecated. Please use tf.compat.v1.assign instead.\n",
            "\n",
            "WARNING:tensorflow:From /usr/local/lib/python3.6/dist-packages/keras/backend/tensorflow_backend.py:3005: The name tf.Session is deprecated. Please use tf.compat.v1.Session instead.\n",
            "\n",
            "Train on 52280 samples, validate on 13071 samples\n",
            "Epoch 1/50\n",
            "WARNING:tensorflow:From /usr/local/lib/python3.6/dist-packages/keras/backend/tensorflow_backend.py:190: The name tf.get_default_session is deprecated. Please use tf.compat.v1.get_default_session instead.\n",
            "\n",
            "WARNING:tensorflow:From /usr/local/lib/python3.6/dist-packages/keras/backend/tensorflow_backend.py:197: The name tf.ConfigProto is deprecated. Please use tf.compat.v1.ConfigProto instead.\n",
            "\n",
            "WARNING:tensorflow:From /usr/local/lib/python3.6/dist-packages/keras/backend/tensorflow_backend.py:207: The name tf.global_variables is deprecated. Please use tf.compat.v1.global_variables instead.\n",
            "\n",
            "WARNING:tensorflow:From /usr/local/lib/python3.6/dist-packages/keras/backend/tensorflow_backend.py:216: The name tf.is_variable_initialized is deprecated. Please use tf.compat.v1.is_variable_initialized instead.\n",
            "\n",
            "WARNING:tensorflow:From /usr/local/lib/python3.6/dist-packages/keras/backend/tensorflow_backend.py:223: The name tf.variables_initializer is deprecated. Please use tf.compat.v1.variables_initializer instead.\n",
            "\n",
            "52280/52280 [==============================] - 32s 615us/step - loss: 2.1271 - acc: 0.4797 - val_loss: 1.8140 - val_acc: 0.5720\n",
            "Epoch 2/50\n",
            "52280/52280 [==============================] - 22s 420us/step - loss: 1.7369 - acc: 0.5705 - val_loss: 1.5973 - val_acc: 0.6140\n",
            "Epoch 3/50\n",
            "52280/52280 [==============================] - 22s 420us/step - loss: 1.5817 - acc: 0.6003 - val_loss: 1.4734 - val_acc: 0.6303\n",
            "Epoch 4/50\n",
            "52280/52280 [==============================] - 22s 421us/step - loss: 1.4719 - acc: 0.6222 - val_loss: 1.3987 - val_acc: 0.6465\n",
            "Epoch 5/50\n",
            "52280/52280 [==============================] - 22s 420us/step - loss: 1.3852 - acc: 0.6386 - val_loss: 1.2954 - val_acc: 0.6682\n",
            "Epoch 6/50\n",
            "52280/52280 [==============================] - 22s 421us/step - loss: 1.3150 - acc: 0.6523 - val_loss: 1.2449 - val_acc: 0.6687\n",
            "Epoch 7/50\n",
            "52280/52280 [==============================] - 22s 419us/step - loss: 1.2608 - acc: 0.6599 - val_loss: 1.1870 - val_acc: 0.6860\n",
            "Epoch 8/50\n",
            "52280/52280 [==============================] - 22s 420us/step - loss: 1.2110 - acc: 0.6698 - val_loss: 1.1619 - val_acc: 0.6844\n",
            "Epoch 9/50\n",
            "52280/52280 [==============================] - 22s 420us/step - loss: 1.1701 - acc: 0.6771 - val_loss: 1.1119 - val_acc: 0.6957\n",
            "Epoch 10/50\n",
            "52280/52280 [==============================] - 22s 419us/step - loss: 1.0744 - acc: 0.6967 - val_loss: 1.0292 - val_acc: 0.7120\n",
            "Epoch 13/50\n",
            "52280/52280 [==============================] - 22s 422us/step - loss: 1.0499 - acc: 0.7015 - val_loss: 1.0160 - val_acc: 0.7155\n",
            "Epoch 14/50\n",
            "52280/52280 [==============================] - 22s 420us/step - loss: 1.0302 - acc: 0.7048 - val_loss: 0.9933 - val_acc: 0.7204\n",
            "Epoch 15/50\n",
            "52280/52280 [==============================] - 22s 420us/step - loss: 1.0061 - acc: 0.7113 - val_loss: 0.9909 - val_acc: 0.7143\n",
            "Epoch 16/50\n",
            "52280/52280 [==============================] - 22s 421us/step - loss: 0.9883 - acc: 0.7145 - val_loss: 0.9667 - val_acc: 0.7240\n",
            "Epoch 17/50\n",
            "52280/52280 [==============================] - 22s 420us/step - loss: 0.9708 - acc: 0.7192 - val_loss: 0.9486 - val_acc: 0.7291\n",
            "Epoch 18/50\n",
            "52280/52280 [==============================] - 22s 421us/step - loss: 0.9584 - acc: 0.7217 - val_loss: 0.9423 - val_acc: 0.7303\n",
            "Epoch 19/50\n",
            "52280/52280 [==============================] - 22s 420us/step - loss: 0.9433 - acc: 0.7263 - val_loss: 0.9368 - val_acc: 0.7313\n",
            "Epoch 20/50\n",
            "52280/52280 [==============================] - 22s 422us/step - loss: 0.9257 - acc: 0.7319 - val_loss: 0.9206 - val_acc: 0.7357\n",
            "Epoch 21/50\n",
            "52280/52280 [==============================] - 22s 420us/step - loss: 0.9152 - acc: 0.7331 - val_loss: 0.9049 - val_acc: 0.7390\n",
            "Epoch 22/50\n",
            "52280/52280 [==============================] - 22s 420us/step - loss: 0.9063 - acc: 0.7359 - val_loss: 0.9009 - val_acc: 0.7410\n",
            "Epoch 23/50\n",
            "52280/52280 [==============================] - 22s 420us/step - loss: 0.8944 - acc: 0.7382 - val_loss: 0.8865 - val_acc: 0.7438\n",
            "Epoch 24/50\n",
            "52280/52280 [==============================] - 22s 421us/step - loss: 0.8833 - acc: 0.7411 - val_loss: 0.8945 - val_acc: 0.7439\n",
            "Epoch 25/50\n",
            "52280/52280 [==============================] - 22s 420us/step - loss: 0.8737 - acc: 0.7457 - val_loss: 0.8746 - val_acc: 0.7456\n",
            "Epoch 26/50\n",
            "52280/52280 [==============================] - 22s 421us/step - loss: 0.8673 - acc: 0.7471 - val_loss: 0.8779 - val_acc: 0.7454\n",
            "Epoch 27/50\n",
            "52280/52280 [==============================] - 22s 423us/step - loss: 0.8581 - acc: 0.7495 - val_loss: 0.8728 - val_acc: 0.7490\n",
            "Epoch 28/50\n",
            "52280/52280 [==============================] - 22s 421us/step - loss: 0.8497 - acc: 0.7515 - val_loss: 0.8628 - val_acc: 0.7494\n",
            "Epoch 29/50\n",
            "52280/52280 [==============================] - 22s 421us/step - loss: 0.8397 - acc: 0.7555 - val_loss: 0.8618 - val_acc: 0.7516\n",
            "Epoch 30/50\n",
            "52280/52280 [==============================] - 22s 422us/step - loss: 0.8351 - acc: 0.7564 - val_loss: 0.8577 - val_acc: 0.7522\n",
            "Epoch 31/50\n",
            "52280/52280 [==============================] - 22s 420us/step - loss: 0.8325 - acc: 0.7554 - val_loss: 0.8749 - val_acc: 0.7459\n",
            "Epoch 32/50\n",
            "52280/52280 [==============================] - 22s 421us/step - loss: 0.8213 - acc: 0.7604 - val_loss: 0.8435 - val_acc: 0.7557\n",
            "Epoch 33/50\n",
            "52280/52280 [==============================] - 22s 422us/step - loss: 0.8192 - acc: 0.7614 - val_loss: 0.8458 - val_acc: 0.7553\n",
            "Epoch 34/50\n",
            "52280/52280 [==============================] - 22s 422us/step - loss: 0.8150 - acc: 0.7630 - val_loss: 0.8400 - val_acc: 0.7587\n",
            "Epoch 35/50\n",
            "52280/52280 [==============================] - 22s 421us/step - loss: 0.8101 - acc: 0.7637 - val_loss: 0.8431 - val_acc: 0.7581\n",
            "Epoch 36/50\n",
            "52280/52280 [==============================] - 22s 422us/step - loss: 0.8051 - acc: 0.7647 - val_loss: 0.8393 - val_acc: 0.7579\n",
            "Epoch 37/50\n",
            "52280/52280 [==============================] - 22s 420us/step - loss: 0.8021 - acc: 0.7652 - val_loss: 0.8341 - val_acc: 0.7572\n",
            "Epoch 38/50\n",
            "52280/52280 [==============================] - 22s 423us/step - loss: 0.7969 - acc: 0.7686 - val_loss: 0.8391 - val_acc: 0.7573\n",
            "Epoch 39/50\n",
            "52280/52280 [==============================] - 22s 422us/step - loss: 0.7949 - acc: 0.7680 - val_loss: 0.8357 - val_acc: 0.7585\n",
            "Epoch 40/50\n",
            "52280/52280 [==============================] - 22s 421us/step - loss: 0.7949 - acc: 0.7685 - val_loss: 0.8326 - val_acc: 0.7605\n",
            "Epoch 41/50\n",
            "52280/52280 [==============================] - 22s 422us/step - loss: 0.7931 - acc: 0.7714 - val_loss: 0.8297 - val_acc: 0.7608\n",
            "Epoch 42/50\n",
            "52280/52280 [==============================] - 22s 423us/step - loss: 0.7936 - acc: 0.7695 - val_loss: 0.8277 - val_acc: 0.7608\n",
            "Epoch 43/50\n",
            "52280/52280 [==============================] - 22s 420us/step - loss: 0.7871 - acc: 0.7726 - val_loss: 0.8287 - val_acc: 0.7615\n",
            "Epoch 44/50\n",
            "52280/52280 [==============================] - 22s 421us/step - loss: 0.7864 - acc: 0.7716 - val_loss: 0.8255 - val_acc: 0.7636\n",
            "Epoch 45/50\n",
            "52280/52280 [==============================] - 22s 421us/step - loss: 0.7837 - acc: 0.7744 - val_loss: 0.8349 - val_acc: 0.7618\n",
            "Epoch 46/50\n",
            "52280/52280 [==============================] - 22s 421us/step - loss: 0.7846 - acc: 0.7749 - val_loss: 0.8236 - val_acc: 0.7626\n",
            "Epoch 47/50\n",
            "52280/52280 [==============================] - 22s 422us/step - loss: 0.7812 - acc: 0.7759 - val_loss: 0.8280 - val_acc: 0.7637\n",
            "Epoch 48/50\n",
            "52280/52280 [==============================] - 22s 423us/step - loss: 0.7850 - acc: 0.7743 - val_loss: 0.8321 - val_acc: 0.7634\n",
            "Epoch 49/50\n",
            "52280/52280 [==============================] - 22s 422us/step - loss: 0.7809 - acc: 0.7757 - val_loss: 0.8271 - val_acc: 0.7624\n",
            "Epoch 50/50\n",
            "52280/52280 [==============================] - 22s 421us/step - loss: 0.7809 - acc: 0.7760 - val_loss: 0.8376 - val_acc: 0.7615\n"
          ],
          "name": "stdout"
        }
      ]
    },
    {
      "cell_type": "markdown",
      "metadata": {
        "id": "Vq7IMRxjyw78",
        "colab_type": "text"
      },
      "source": [
        "**Saving Model**"
      ]
    },
    {
      "cell_type": "code",
      "metadata": {
        "id": "tiRDaukzyv1b",
        "colab_type": "code",
        "colab": {}
      },
      "source": [
        "model.save('/content/drive/Shared drives/IDS594/BestModel.h5')"
      ],
      "execution_count": 0,
      "outputs": []
    },
    {
      "cell_type": "markdown",
      "metadata": {
        "id": "mGJxebld1s_h",
        "colab_type": "text"
      },
      "source": [
        "# **Evaluating Performance of the Model**"
      ]
    },
    {
      "cell_type": "code",
      "metadata": {
        "id": "1I1z5Sd61EET",
        "colab_type": "code",
        "colab": {
          "base_uri": "https://localhost:8080/",
          "height": 52
        },
        "outputId": "6f8abe85-f082-4f6c-f0df-a2d639246cd6"
      },
      "source": [
        "fittedmodel_dict = fittedmodel.history\n",
        "temp = fittedmodel_dict['val_acc']\n",
        "temp1 = fittedmodel_dict['acc']\n",
        "\n",
        "last_10_acc = temp[len(temp)-10:len(temp)]\n",
        "val_acc_avg = np.sum(last_10_acc)/len(last_10_acc)\n",
        "\n",
        "last_10_acc_train = temp1[len(temp1)-10:len(temp1)]\n",
        "train_acc_avg = np.sum(last_10_acc_train)/len(last_10_acc_train)\n",
        "\n",
        "print(\"Average Validation Accuracy: \",val_acc_avg*100)\n",
        "print(\"Average training Accuracy: \",train_acc_avg*100)"
      ],
      "execution_count": 44,
      "outputs": [
        {
          "output_type": "stream",
          "text": [
            "Average Validation Accuracy:  76.22064083953704\n",
            "Average training Accuracy:  77.36227987098985\n"
          ],
          "name": "stdout"
        }
      ]
    },
    {
      "cell_type": "code",
      "metadata": {
        "id": "MBTapuR65uIQ",
        "colab_type": "code",
        "outputId": "abfabaac-289a-417d-ec22-7c14859aa88a",
        "colab": {
          "base_uri": "https://localhost:8080/",
          "height": 70
        }
      },
      "source": [
        "scores = model.evaluate(X_test_data2, y_testdata, verbose=1)\n",
        "print('Test loss:', scores[0])\n",
        "print('Test accuracy:', scores[1])"
      ],
      "execution_count": 43,
      "outputs": [
        {
          "output_type": "stream",
          "text": [
            "16338/16338 [==============================] - 3s 194us/step\n",
            "Test loss: 0.830925519119965\n",
            "Test accuracy: 0.7661892520285453\n"
          ],
          "name": "stdout"
        }
      ]
    },
    {
      "cell_type": "markdown",
      "metadata": {
        "id": "oyAOl3iE1dy3",
        "colab_type": "text"
      },
      "source": [
        "**Plotting Training and Validation Accuracy**"
      ]
    },
    {
      "cell_type": "code",
      "metadata": {
        "id": "hRPZe4HS1k-C",
        "colab_type": "code",
        "colab": {
          "base_uri": "https://localhost:8080/",
          "height": 544
        },
        "outputId": "a90220be-8d12-43bc-a271-f26c71451dcf"
      },
      "source": [
        "import matplotlib.pyplot as plt\n",
        "fittedmodel_dict = fittedmodel.history\n",
        "acc = fittedmodel_dict['acc']\n",
        "val_acc = fittedmodel_dict['val_acc']\n",
        "loss = fittedmodel_dict['loss']\n",
        "val_loss = fittedmodel_dict['val_loss']\n",
        "epochs = range(1, len(acc) + 1)\n",
        "plt.plot(epochs, acc, 'bo', label='Training acc')\n",
        "plt.plot(epochs, val_acc, 'b', label='Validation acc')\n",
        "plt.title('Training and validation accuracy')\n",
        "plt.legend()\n",
        "plt.figure()\n",
        "plt.plot(epochs, loss, 'bo', label='Training loss')\n",
        "plt.plot(epochs, val_loss, 'b', label='Validation loss')\n",
        "plt.title('Training and validation loss')\n",
        "plt.legend()\n",
        "plt.show()"
      ],
      "execution_count": 46,
      "outputs": [
        {
          "output_type": "display_data",
          "data": {
            "image/png": "[encoded data removed]",
            "text/plain": [
              "<Figure size 432x288 with 1 Axes>"
            ]
          },
          "metadata": {
            "tags": []
          }
        },
        {
          "output_type": "display_data",
          "data": {
            "image/png": "[encoded data removed]",
            "text/plain": [
              "<Figure size 432x288 with 1 Axes>"
            ]
          },
          "metadata": {
            "tags": []
          }
        }
      ]
    },
    {
      "cell_type": "markdown",
      "metadata": {
        "id": "t13L2UDZ3iow",
        "colab_type": "text"
      },
      "source": [
        "**Predicting on Test Set**"
      ]
    },
    {
      "cell_type": "code",
      "metadata": {
        "id": "Y_CS2k-31YPY",
        "colab_type": "code",
        "colab": {}
      },
      "source": [
        "# predict probabilities for test set\n",
        "testpred_probs = model.predict(X_test_data2, verbose=0)\n",
        "# predict classes for test set\n",
        "testpred_classes = model.predict_classes(X_test_data2, verbose=0)"
      ],
      "execution_count": 0,
      "outputs": []
    },
    {
      "cell_type": "markdown",
      "metadata": {
        "id": "1shpQBJq3l_n",
        "colab_type": "text"
      },
      "source": [
        "**Evaluating Confusion Matrix, Precision, Recall**"
      ]
    },
    {
      "cell_type": "code",
      "metadata": {
        "id": "wVKps5sN8L1I",
        "colab_type": "code",
        "colab": {}
      },
      "source": [
        "from sklearn import metrics\n",
        "\n",
        "matrix = metrics.confusion_matrix(y_testdata.argmax(axis=1), testpred_classes)"
      ],
      "execution_count": 0,
      "outputs": []
    },
    {
      "cell_type": "code",
      "metadata": {
        "id": "idJhDqs88ewv",
        "colab_type": "code",
        "colab": {
          "base_uri": "https://localhost:8080/",
          "height": 194
        },
        "outputId": "4564e663-8b3c-45e8-dca4-c15ee4b93300"
      },
      "source": [
        "print(matrix)"
      ],
      "execution_count": 116,
      "outputs": [
        {
          "output_type": "stream",
          "text": [
            "[[ 217    6   28   53   18   86   21    4   27    8]\n",
            " [   3 1079    1    7   16    6    1   43   63    6]\n",
            " [  17    6  593   23   21   79    9   30   82   16]\n",
            " [  22   16   37 2871  142  133   36    9   84   34]\n",
            " [  14   14   46  148 5457  137   24   48  123   38]\n",
            " [  69   11   48   87   44  800   34   23   71   37]\n",
            " [  41   11   64   48   62  141  123   11   95   21]\n",
            " [   0   36    8    2   12    4    3  446   69    4]\n",
            " [  30   98  105   51   71   90   21  107  789   69]\n",
            " [   7   31   36   15   30   71   14   13  120  143]]\n"
          ],
          "name": "stdout"
        }
      ]
    },
    {
      "cell_type": "code",
      "metadata": {
        "id": "_A8ME70X8pzl",
        "colab_type": "code",
        "colab": {
          "base_uri": "https://localhost:8080/",
          "height": 318
        },
        "outputId": "99094945-c5b9-497b-c628-28e8edee3709"
      },
      "source": [
        "print(metrics.classification_report(y_testdata.argmax(axis=1), testpred_classes, digits=3))"
      ],
      "execution_count": 117,
      "outputs": [
        {
          "output_type": "stream",
          "text": [
            "              precision    recall  f1-score   support\n",
            "\n",
            "           0      0.517     0.464     0.489       468\n",
            "           1      0.825     0.881     0.852      1225\n",
            "           2      0.614     0.677     0.644       876\n",
            "           3      0.869     0.848     0.858      3384\n",
            "           4      0.929     0.902     0.915      6049\n",
            "           5      0.517     0.654     0.577      1224\n",
            "           6      0.430     0.199     0.272       617\n",
            "           7      0.608     0.764     0.677       584\n",
            "           8      0.518     0.551     0.534      1431\n",
            "           9      0.380     0.298     0.334       480\n",
            "\n",
            "    accuracy                          0.766     16338\n",
            "   macro avg      0.621     0.624     0.615     16338\n",
            "weighted avg      0.767     0.766     0.763     16338\n",
            "\n"
          ],
          "name": "stdout"
        }
      ]
    },
    {
      "cell_type": "markdown",
      "metadata": {
        "id": "l-9wcOd4_I0V",
        "colab_type": "text"
      },
      "source": [
        "**Load the Model**"
      ]
    },
    {
      "cell_type": "code",
      "metadata": {
        "id": "P3GKJxE4Puz4",
        "colab_type": "code",
        "colab": {}
      },
      "source": [
        "from keras.models import load_model\n",
        "\n",
        "model=load_model('/content/drive/Shared drives/IDS594/BestModel.h5')"
      ],
      "execution_count": 0,
      "outputs": []
    },
    {
      "cell_type": "markdown",
      "metadata": {
        "id": "WApnHO81_aRZ",
        "colab_type": "text"
      },
      "source": [
        "**Predicted Images**"
      ]
    },
    {
      "cell_type": "code",
      "metadata": {
        "id": "4-H_tfwV_Z9I",
        "colab_type": "code",
        "colab": {
          "base_uri": "https://localhost:8080/",
          "height": 286
        },
        "outputId": "de8d4243-1924-4c75-ef64-2f0e28db967b"
      },
      "source": [
        "plt.imshow(X_test_data2[0])\n",
        "print('Predicted Class:', testpred_classes[0])"
      ],
      "execution_count": 118,
      "outputs": [
        {
          "output_type": "stream",
          "text": [
            "Predicted Class: 4\n"
          ],
          "name": "stdout"
        },
        {
          "output_type": "display_data",
          "data": {
            "image/png": "[encoded data removed]",
            "text/plain": [
              "<Figure size 432x288 with 1 Axes>"
            ]
          },
          "metadata": {
            "tags": []
          }
        }
      ]
    },
    {
      "cell_type": "code",
      "metadata": {
        "id": "ElhDJfFx_Z7c",
        "colab_type": "code",
        "colab": {
          "base_uri": "https://localhost:8080/",
          "height": 286
        },
        "outputId": "20ecf733-2fea-4be4-9be8-e83b8a4e4ab6"
      },
      "source": [
        "plt.imshow(X_test_data2[1])\n",
        "print('Predicted Class:', testpred_classes[1])"
      ],
      "execution_count": 119,
      "outputs": [
        {
          "output_type": "stream",
          "text": [
            "Predicted Class: 3\n"
          ],
          "name": "stdout"
        },
        {
          "output_type": "display_data",
          "data": {
            "image/png": "[encoded data removed]",
            "text/plain": [
              "<Figure size 432x288 with 1 Axes>"
            ]
          },
          "metadata": {
            "tags": []
          }
        }
      ]
    },
    {
      "cell_type": "code",
      "metadata": {
        "id": "PPqq4tIt_Z40",
        "colab_type": "code",
        "colab": {
          "base_uri": "https://localhost:8080/",
          "height": 286
        },
        "outputId": "018b378e-1d2b-4c6e-e692-23a9a8e6383c"
      },
      "source": [
        "plt.imshow(X_test_data2[2])\n",
        "print('Predicted Class:', testpred_classes[2])"
      ],
      "execution_count": 120,
      "outputs": [
        {
          "output_type": "stream",
          "text": [
            "Predicted Class: 8\n"
          ],
          "name": "stdout"
        },
        {
          "output_type": "display_data",
          "data": {
            "image/png": "[encoded data removed]",
            "text/plain": [
              "<Figure size 432x288 with 1 Axes>"
            ]
          },
          "metadata": {
            "tags": []
          }
        }
      ]
    },
    {
      "cell_type": "code",
      "metadata": {
        "id": "E2w1ZDUv_Z2G",
        "colab_type": "code",
        "colab": {
          "base_uri": "https://localhost:8080/",
          "height": 286
        },
        "outputId": "f894e187-5c80-494e-8d7b-9762ecfe56e7"
      },
      "source": [
        "plt.imshow(X_test_data2[3])\n",
        "print('Predicted Class:', testpred_classes[3])"
      ],
      "execution_count": 121,
      "outputs": [
        {
          "output_type": "stream",
          "text": [
            "Predicted Class: 2\n"
          ],
          "name": "stdout"
        },
        {
          "output_type": "display_data",
          "data": {
            "image/png": "[encoded data removed]",
            "text/plain": [
              "<Figure size 432x288 with 1 Axes>"
            ]
          },
          "metadata": {
            "tags": []
          }
        }
      ]
    },
    {
      "cell_type": "code",
      "metadata": {
        "id": "1YEBotehD-Kp",
        "colab_type": "code",
        "colab": {
          "base_uri": "https://localhost:8080/",
          "height": 286
        },
        "outputId": "1a836f5a-3c9d-479a-c0be-b8f82d8e1965"
      },
      "source": [
        "plt.imshow(X_test_data2[4])\n",
        "print('Predicted Class:', testpred_classes[4])"
      ],
      "execution_count": 122,
      "outputs": [
        {
          "output_type": "stream",
          "text": [
            "Predicted Class: 2\n"
          ],
          "name": "stdout"
        },
        {
          "output_type": "display_data",
          "data": {
            "image/png": "[encoded data removed]",
            "text/plain": [
              "<Figure size 432x288 with 1 Axes>"
            ]
          },
          "metadata": {
            "tags": []
          }
        }
      ]
    }
  ]
}